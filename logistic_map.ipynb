{
 "cells": [
  {
   "cell_type": "code",
   "execution_count": null,
   "id": "20b2ec5c-6229-416d-9aeb-5388f601a043",
   "metadata": {},
   "outputs": [],
   "source": [
    "import numpy as np\n",
    "import pandas as pd\n",
    "import altair as alt\n",
    "from math import exp, sin"
   ]
  },
  {
   "cell_type": "code",
   "execution_count": null,
   "id": "c5738494-efc1-41e5-a3a8-dfc454d3ba77",
   "metadata": {},
   "outputs": [],
   "source": [
    "# parametr for increasing altair charts capacity\n",
    "alt.data_transformers.enable('default', max_rows=10000000)"
   ]
  },
  {
   "cell_type": "code",
   "execution_count": null,
   "id": "ca181d84-b911-4591-8e76-3ada0688541b",
   "metadata": {},
   "outputs": [],
   "source": [
    "def delta_phi(phi, param):\n",
    "    delta_phi = np.exp(-np.sin(phi) / param)\n",
    "    return delta_phi"
   ]
  },
  {
   "cell_type": "markdown",
   "id": "438f9ea5-4355-4bde-a8ed-ea181df91830",
   "metadata": {},
   "source": [
    "---"
   ]
  },
  {
   "cell_type": "code",
   "execution_count": null,
   "id": "e8e7a9d9-0b25-455c-8ac4-71027e967ba1",
   "metadata": {},
   "outputs": [],
   "source": [
    "def simulation(param=1, steps=200, init_phi=0):\n",
    "    \"\"\"Simulation of process with specific params\"\"\"\n",
    "    n = np.zeros(steps + 1)\n",
    "    phi = np.zeros(steps + 1)\n",
    "    n[0] = 0\n",
    "    phi[0] = init_phi\n",
    "    \n",
    "    for i in range(steps):\n",
    "        phi[i+1] = (phi[i] + delta_phi(phi[i], param)) % (2 * np.pi)\n",
    "        n[i+1] = n[i] + 1\n",
    "    \n",
    "    df = pd.DataFrame({'n': n, 'phi': phi})\n",
    "\n",
    "    y_ticks = [0, np.pi/2, np.pi, 3*np.pi/2, 2*np.pi]\n",
    "    chart = alt.Chart(df).mark_line().encode(\n",
    "        x=alt.X('n:Q', title='iteration number'),\n",
    "        y=alt.Y('phi:Q', title='phi',\n",
    "            axis=alt.Axis(values=y_ticks, labels=True, tickCount=5, labelExpr=\"datum.value == 0 ? '0' : datum.value == 3.141592653589793 ? 'π' : datum.value == 6.283185307179586 ? '2π' : datum.value == 1.5707963267948966 ? 'π/2' : datum.value == 4.71238898038469 ? '3π/2' : datum.value\"))\n",
    "        ).properties(\n",
    "        title=f'Param = {param}').interactive()\n",
    "    chart.save(f'data_param_{param}_init_{init_phi}.png', scale_factor=2)\n",
    "    chart.display()"
   ]
  },
  {
   "cell_type": "code",
   "execution_count": null,
   "id": "f9673c46-607a-4f2a-b72e-dc1c82236219",
   "metadata": {},
   "outputs": [],
   "source": [
    "simulation(2, 1000)"
   ]
  },
  {
   "cell_type": "code",
   "execution_count": null,
   "id": "fc017124-34cb-4ee8-9c9e-ea477527a117",
   "metadata": {},
   "outputs": [],
   "source": [
    "steps = 500\n",
    "for param in [0.1, 0.5, 0.7, 0.9, 1, 1.2, 1.4, 1.5, 1.6, 1.9, 2.0, 2.3, 2.5, 3.0, 4.0, 5.5, 6.0, 9.0]:\n",
    "    simulation(param, steps)"
   ]
  },
  {
   "cell_type": "code",
   "execution_count": null,
   "id": "acd6c7e2-c352-4dd7-8d89-418632953ea1",
   "metadata": {},
   "outputs": [],
   "source": [
    "def create_logistic_map(param_min, param_max, steps=2000, save_last=800):\n",
    "    \"\"\"Create logistic map by Phi and save in PNG and SVG\"\"\"\n",
    "    params = np.linspace(param_min, param_max, 400)\n",
    "    map_data = []\n",
    "    phi_init = 0\n",
    "\n",
    "    for param in params:\n",
    "        phi = phi_init\n",
    "        phi_values = []\n",
    "        for i in range(steps):\n",
    "            phi = (phi + delta_phi(phi, param)) % (2 * np.pi)\n",
    "            if i >= (steps - save_last):\n",
    "                phi_values.append(phi)\n",
    "        \n",
    "        for phi_value in phi_values:\n",
    "            map_data.append({'param': param, 'phi': phi_value})\n",
    "\n",
    "    \n",
    "    df_logistic_map = pd.DataFrame(map_data)\n",
    "    y_ticks = [0, np.pi/2, np.pi, 3*np.pi/2, 2*np.pi]\n",
    "    chart = alt.Chart(df_logistic_map).mark_point(size=0.1, opacity=0.5).encode(\n",
    "        x=alt.X('param:Q', title='param', scale=alt.Scale(domain=[param_min, param_max])),\n",
    "        y=alt.Y('phi:Q', title='phi',\n",
    "                axis=alt.Axis(values=y_ticks, labels=True, tickCount=5, labelExpr=\"datum.value == 0 ? '0' : datum.value == 3.141592653589793 ? 'π' : datum.value == 6.283185307179586 ? '2π' : datum.value == 1.5707963267948966 ? 'π/2' : datum.value == 4.71238898038469 ? '3π/2' : datum.value\"))\n",
    "    ).properties(\n",
    "        title=f'{param_min}-{param_max} Logistic map: phi =  (phi + exp(-sin(phi) / param)) % (2 * pi), last {save_last}',\n",
    "        width=800,\n",
    "        height=600\n",
    "    )#.interactive()\n",
    "    #chart.save(f'logistic_map_{phi_init}_{param_min}-{param_max}.json')\n",
    "    chart.save(f'logistic_map_{param_min}-{param_max}_last_{save_last}.png', scale_factor=2)\n",
    "    chart.save(f'logistic_map_{param_min}-{param_max}.svg')\n",
    "    chart.display()"
   ]
  },
  {
   "cell_type": "code",
   "execution_count": null,
   "id": "77c62381-3b73-4256-ae36-4cd672257caa",
   "metadata": {
    "scrolled": true
   },
   "outputs": [],
   "source": [
    "create_logistic_map(31, 33)"
   ]
  },
  {
   "cell_type": "code",
   "execution_count": null,
   "id": "dd949e06-0dfa-4a7f-93b8-f9775a7a849f",
   "metadata": {},
   "outputs": [],
   "source": [
    "create_logistic_map(30, 100)"
   ]
  },
  {
   "cell_type": "markdown",
   "id": "1b232d28-d354-49a9-9ac8-6e90196daec0",
   "metadata": {},
   "source": [
    "---\n",
    "### Tests with matplotlib"
   ]
  },
  {
   "cell_type": "code",
   "execution_count": null,
   "id": "74bf3f02-afed-4ac7-87dd-6c19fea8c04d",
   "metadata": {},
   "outputs": [],
   "source": [
    "from matplotlib import pyplot as plt\n",
    "from math import exp, sin\n",
    "import numpy as np"
   ]
  },
  {
   "cell_type": "code",
   "execution_count": null,
   "id": "71c88c2b-262e-4da3-8188-a51b6b869ffc",
   "metadata": {},
   "outputs": [],
   "source": [
    "steps = 100\n",
    "param = 0.5\n",
    "\n",
    "n = np.zeros(steps + 1)\n",
    "phi = np.zeros(steps + 1)\n",
    "n[0], phi[0] = 0, 0.5\n",
    "\n",
    "\n",
    "for i in range(steps):\n",
    "    phi[i+1] = (phi[i] + delta_phi(phi[i], param)) % (2 * np.pi)\n",
    "    n[i+1] = n[i] + 1\n",
    "    \n",
    "fig, ax = plt.subplots()\n",
    "ax.plot(n, phi, alpha=0.5)\n",
    "ax.set(xlabel='Period (n)', ylabel='Phi')\n",
    "plt.show()"
   ]
  },
  {
   "cell_type": "code",
   "execution_count": null,
   "id": "5942efc0-5716-4b9f-a681-14b39914a796",
   "metadata": {},
   "outputs": [],
   "source": [
    "import numpy as np\n",
    "import matplotlib.pyplot as plt\n",
    "\n",
    "param_min = 0.1\n",
    "param_max = 1.1\n",
    "param_values = np.linspace(param_min, param_max, 10000)\n",
    "\n",
    "iterations = 3000\n",
    "last = 1000\n",
    "\n",
    "phi = 0\n",
    "param_list = []\n",
    "phi_list = []\n",
    "\n",
    "for i in range(iterations):\n",
    "    phi = (phi + np.sign(np.sin(phi)) * np.exp(-np.sin(phi))/param_values) % (2 * np.pi)\n",
    "    # phi = (phi + np.sign(np.sin(phi)) * np.exp(np.sin(phi))/param_values) % (2*np.pi)\n",
    "    # phi = (phi + np.sign(np.sin(phi)) * np.exp( np.abs(np.sin(phi))/param ) ) % (2*np.pi)\n",
    "\n",
    "    if i >= (iterations - last):\n",
    "        param_list.extend(param_values)\n",
    "        phi_list.extend(phi)\n",
    "\n",
    "plt.figure(figsize=(10, 7))\n",
    "plt.plot(param_list, phi_list, ',k', alpha=0.5)\n",
    "plt.title(\"Logistic map: phi =  (phi + exp(-sin(phi) / param)) % (2 * pi)\")\n",
    "plt.xlabel(\"param\")\n",
    "plt.ylabel(\"phi\")\n",
    "plt.yticks(np.linspace(0, 2 * np.pi, 5), ['0', 'π/2', 'π', '3π/2', '2π'])\n",
    "plt.show()"
   ]
  },
  {
   "cell_type": "code",
   "execution_count": null,
   "id": "09701224-dd24-401c-a82b-b9a7deb8bbd4",
   "metadata": {},
   "outputs": [],
   "source": []
  }
 ],
 "metadata": {
  "kernelspec": {
   "display_name": "Python 3 (ipykernel)",
   "language": "python",
   "name": "python3"
  },
  "language_info": {
   "codemirror_mode": {
    "name": "ipython",
    "version": 3
   },
   "file_extension": ".py",
   "mimetype": "text/x-python",
   "name": "python",
   "nbconvert_exporter": "python",
   "pygments_lexer": "ipython3",
   "version": "3.13.2"
  }
 },
 "nbformat": 4,
 "nbformat_minor": 5
}
